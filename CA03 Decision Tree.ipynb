{
 "cells": [
  {
   "cell_type": "code",
   "execution_count": null,
   "id": "6f7770be",
   "metadata": {},
   "outputs": [],
   "source": [
    "import pandas as pd\n",
    "import numpy as np\n",
    "import matplotlib.pyplot as plt\n",
    "from sklearn.tree import DecisionTreeClassifier\n",
    "from sklearn.model_selection import train_test_split\n",
    "from sklearn import metrics\n",
    "from category_encoders import OrdinalEncoder\n",
    "from sklearn.tree import export_graphviz\n",
    "from six import StringIO  \n",
    "from IPython.display import Image  \n",
    "import pydotplus\n",
    "import graphviz\n",
    "import os\n",
    "from sklearn.metrics import confusion_matrix\n",
    "from sklearn.metrics import classification_report\n",
    "from sklearn.metrics import roc_curve, auc\n",
    "from sklearn.model_selection import GridSearchCV\n",
    "from sklearn.tree import DecisionTreeRegressor\n",
    "from sklearn import metrics\n"
   ]
  },
  {
   "cell_type": "code",
   "execution_count": null,
   "id": "306a2378",
   "metadata": {},
   "outputs": [],
   "source": [
    "os.environ['PATH']"
   ]
  },
  {
   "cell_type": "code",
   "execution_count": null,
   "id": "69580144",
   "metadata": {},
   "outputs": [],
   "source": [
    "url = \"https://github.com/ArinB/MSBA-CA-Data/blob/main/CA03/census_data.csv?raw=true\"\n",
    "data = pd.read_csv(url, encoding = \"ISO-8859-1\")"
   ]
  },
  {
   "cell_type": "markdown",
   "id": "cd16a666",
   "metadata": {},
   "source": [
    "# 1. Data Quality Analysis"
   ]
  },
  {
   "cell_type": "code",
   "execution_count": null,
   "id": "c9da2b2b",
   "metadata": {},
   "outputs": [],
   "source": [
    "# Exploring data\n",
    "display(data.head())\n",
    "display(data.info())\n",
    "display(data.describe())\n",
    "# Finding missing value\n",
    "display(data.isnull().sum()) \n",
    "\n",
    "#descriptive statistics of each column\n",
    "\n",
    "#For hours_per_week\n",
    "#Counts\n",
    "display(\"Counts: \",data.hours_per_week_bin.sort_index().value_counts())\n",
    "#mode\n",
    "display(\"Mode: \", data.hours_per_week_bin.mode())\n",
    "#min\n",
    "display(\"Min: \",data.hours_per_week_bin.min())\n",
    "#max\n",
    "display(\"Max: \",data.hours_per_week_bin.max())\n",
    "\n",
    "#For occupation_bin\n",
    "#Counts\n",
    "display(\"Counts: \",data.occupation_bin.sort_index().value_counts())\n",
    "#mode\n",
    "display(\"Mode: \", occupation_bin.mode())\n",
    "#min\n",
    "display(\"Min: \",occupation_bin.min())\n",
    "#max\n",
    "display(\"Max: \",occupation_bin.max())\n",
    "\n",
    "#For msr_bin\n",
    "#Counts\n",
    "display(\"Counts: \",data.msr_bin.sort_index().value_counts())\n",
    "#mode\n",
    "display(\"Mode: \", msr_bin.mode())\n",
    "#min\n",
    "display(\"Min: \",msr_bin.min())\n",
    "#max\n",
    "display(\"Max: \",msr_bin.max())\n",
    "\n",
    "\n",
    "#For capital_gl_bin\n",
    "#Counts\n",
    "display(\"Counts: \",data.capital_gl_bin.sort_index().value_counts())\n",
    "#mode\n",
    "display(\"Mode: \", capital_gl_bin.mode())\n",
    "#min\n",
    "display(\"Min: \",capital_gl_bin.min())\n",
    "#max\n",
    "display(\"Max: \",capital_gl_bin.max())\n",
    "\n",
    "#For race_sex_bin\n",
    "#Counts\n",
    "display(\"Counts: \",data.race_sex_bin.sort_index().value_counts())\n",
    "#mode\n",
    "display(\"Mode: \", race_sex_bin.mode())\n",
    "#min\n",
    "display(\"Min: \",race_sex_bin.min())\n",
    "#max\n",
    "display(\"Max: \",race_sex_bin.max())\n",
    "\n",
    "#For education_num_bin\n",
    "#Counts\n",
    "display(\"Counts: \",data.education_num_bin.sort_index().value_counts())\n",
    "#mode\n",
    "display(\"Mode: \", education_num_bin.mode())\n",
    "#min\n",
    "display(\"Min: \",education_num_bin.min())\n",
    "#max\n",
    "display(\"Max: \",education_num_bin.max())\n",
    "\n",
    "\n",
    "#For education_bin\n",
    "#Counts\n",
    "display(\"Counts: \",data.education_bin.sort_index().value_counts())\n",
    "#mode\n",
    "display(\"Mode: \", education_bin.mode())\n",
    "#min\n",
    "display(\"Min: \",education_bin.min())\n",
    "#max\n",
    "display(\"Max: \",education_bin.max())\n",
    "\n",
    "#For workclass_bin\n",
    "#Counts\n",
    "display(\"Counts: \",data.workclass_bin.sort_index().value_counts())\n",
    "#mode\n",
    "display(\"Mode: \", workclass_bin.mode())\n",
    "#min\n",
    "display(\"Min: \",workclass_bin.min())\n",
    "#max\n",
    "display(\"Max: \",workclass_bin.max())\n",
    "\n",
    "#For age_bin\n",
    "#Counts\n",
    "display(\"Counts: \",data.age_bin.sort_index().value_counts())\n",
    "#mode\n",
    "display(\"Mode: \", age_bin.mode())\n",
    "#min\n",
    "display(\"Min: \",age_bin.min())\n",
    "#max\n",
    "display(\"Max: \",age_bin.max())\n",
    "\n"
   ]
  },
  {
   "cell_type": "markdown",
   "id": "80d5f766",
   "metadata": {},
   "source": [
    "# 2. Exploratory Data Analysis (EDA)"
   ]
  },
  {
   "cell_type": "code",
   "execution_count": null,
   "id": "0db039e3",
   "metadata": {},
   "outputs": [],
   "source": [
    "display(var)\n",
    "display(var2)"
   ]
  },
  {
   "cell_type": "code",
   "execution_count": null,
   "id": "d8bba7fe",
   "metadata": {},
   "outputs": [],
   "source": [
    "#Stacked Bar Chart for age_bin\n",
    "var = data.groupby(['age_bin','y']).age_bin.count()\n",
    "var2 = data.groupby('age_bin').age_bin.count()\n",
    "var3 = var/var2*100\n",
    "var3.unstack().plot(kind='bar',stacked=True,title = 'age_bin',  color=['blue','orange'],\n",
    "                    grid=False,figsize=(8, 6))"
   ]
  },
  {
   "cell_type": "code",
   "execution_count": null,
   "id": "c40bde23",
   "metadata": {},
   "outputs": [],
   "source": [
    "#Stacked Bar Chart for capital_gl_bin\n",
    "var = data.groupby(['capital_gl_bin','y']).capital_gl_bin.count()\n",
    "var2 = data.groupby('capital_gl_bin').capital_gl_bin.count()\n",
    "var3 = var/var2*100\n",
    "var3.unstack().plot(kind='bar',stacked=True,title = 'capital_gl_bin',  color=['blue','orange'],\n",
    "                    grid=False,figsize=(8, 6))"
   ]
  },
  {
   "cell_type": "code",
   "execution_count": null,
   "id": "f0006b0b",
   "metadata": {},
   "outputs": [],
   "source": [
    "#Stacked Bar Chart for education_bin\n",
    "var = data.groupby(['education_bin','y']).education_bin.count()\n",
    "var2 = data.groupby('education_bin').education_bin.count ()\n",
    "var3 = var/var2*100\n",
    "var3.unstack().plot(kind='bar',stacked=True,title = 'education_bin ',  color=['blue','orange'],\n",
    "                    grid=False,figsize=(8, 6))"
   ]
  },
  {
   "cell_type": "code",
   "execution_count": null,
   "id": "edda686a",
   "metadata": {},
   "outputs": [],
   "source": [
    "#Stacked Bar Chart for hours_per_week_bin\n",
    "var = data.groupby(['hours_per_week_bin','y']).hours_per_week_bin.count()\n",
    "var2 = data.groupby('hours_per_week_bin').hours_per_week_bin.count ()\n",
    "var3 = var/var2*100\n",
    "var3.unstack().plot(kind='bar',stacked=True,title = 'hours_per_week_bin ',  color=['blue','orange'],\n",
    "                    grid=False,figsize=(8, 6))"
   ]
  },
  {
   "cell_type": "code",
   "execution_count": null,
   "id": "af6a426d",
   "metadata": {},
   "outputs": [],
   "source": [
    "#Stacked Bar Chart for msr_bin\n",
    "var = data.groupby(['msr_bin','y']).msr_bin.count()\n",
    "var2 = data.groupby('msr_bin').msr_bin.count ()\n",
    "var3 = var/var2*100\n",
    "var3.unstack().plot(kind='bar',stacked=True,title = 'msr_bin',  color=['blue','orange'],\n",
    "                    grid=False,figsize=(8, 6))"
   ]
  },
  {
   "cell_type": "code",
   "execution_count": null,
   "id": "ee8c4755",
   "metadata": {},
   "outputs": [],
   "source": [
    "#Stacked Bar Chart for occupation_bin\n",
    "var = data.groupby(['occupation_bin','y']).occupation_bin.count()\n",
    "var2 = data.groupby('occupation_bin').occupation_bin.count ()\n",
    "var3 = var/var2*100\n",
    "var3.unstack().plot(kind='bar',stacked=True,title = 'occupation_bin ',  color=['blue','orange'],\n",
    "                    grid=False,figsize=(8, 6))"
   ]
  },
  {
   "cell_type": "code",
   "execution_count": null,
   "id": "836a525e",
   "metadata": {},
   "outputs": [],
   "source": [
    "#Stacked Bar Chart for race_sex_bin\n",
    "var = data.groupby(['race_sex_bin','y']).race_sex_bin.count()\n",
    "var2 = data.groupby('race_sex_bin').race_sex_bin.count ()\n",
    "var3 = var/var2*100\n",
    "var3.unstack().plot(kind='bar',stacked=True,title = 'race_sex_bin ',  color=['blue','orange'],\n",
    "                    grid=False,figsize=(8, 6))"
   ]
  },
  {
   "cell_type": "markdown",
   "id": "bce9cf28",
   "metadata": {},
   "source": [
    "# 3.Building Decision Tree Classifier Model"
   ]
  },
  {
   "cell_type": "code",
   "execution_count": null,
   "id": "087f12b6",
   "metadata": {},
   "outputs": [],
   "source": [
    "# 3.Building Decision Tree Classifier Model\n",
    "dtree = DecisionTreeClassifier(max_depth =10, random_state = 101,\n",
    "                              max_features = None, min_samples_leaf =15 )\n",
    "dtree.fit(x_train, y_train)\n",
    "y_pred = dtree.predict(x_test)\n",
    "data.info()\n",
    "encoder = OrdinalEncoder(cols = ['age_bin','capital_gl_bin', 'education_bin','hours_per_week_bin',\n",
    "                                 'msr_bin','occupation_bin','race_sex_bin'], \n",
    "                         handle_unknown = 'value', \n",
    "                         handle_missing = 'value').fit(X_train,t_train)\n",
    "encoded_train = encoder.transform(X_train)\n",
    "encoded_test = encoder.transform(X_test)\n",
    "encoded_test\n",
    "#feature selection\n",
    "#splitting dataset into features and target variables\n",
    "feature_cols = ['age_bin','capital_gl_bin', 'education_bin','hours_per_week_bin',\n",
    "                'msr_bin','occupation_bin','race_sex_bin']\n",
    "X = data[feature_cols]\n",
    "t = data.y \n",
    "\n",
    "# splitting dataset into training set and test set (70% training, 30% testing)\n",
    "X_train, X_test, t_train, t_test = train_test_split(X,t,test_size = 0.30, random_state = 1) \n",
    "\n",
    "#building decision tree model\n",
    "# create decision tree classifer object\n",
    "clf = DecisionTreeClassifier(max_depth =10, random_state = 101,\n",
    "                              max_features = None, min_samples_leaf =15)\n",
    "encoder = OrdinalEncoder(cols = ['age_bin','capital_gl_bin', 'education_bin','hours_per_week_bin',\n",
    "                                 'msr_bin','occupation_bin','race_sex_bin'], \n",
    "                         handle_unknown = 'value', \n",
    "                         handle_missing = 'value').fit(X_train,t_train)\n",
    "X_train = encoder.transform(X_train)\n",
    "X_test = encoder.transform(X_test)\n",
    "       \n",
    "\n",
    "# Train Decision Tree Classifier\n",
    "clf = clf.fit(X_train, t_train)\n",
    "\n",
    "\n",
    "# Predicting the response for test dataset\n",
    "y_pred = clf.predict(X_test)\n",
    "\n",
    "# Evaluating model\n",
    "#model accuracy/frequency of the classifier being correct\n",
    "print(\"Accuracy:\", metrics.accuracy_score(t_test, y_pred))\n",
    "\n",
    "\n"
   ]
  },
  {
   "cell_type": "markdown",
   "id": "3a9e1421",
   "metadata": {},
   "source": [
    "# 4. Visualizing Decision Tree using GraphViz"
   ]
  },
  {
   "cell_type": "code",
   "execution_count": null,
   "id": "e488558b",
   "metadata": {},
   "outputs": [],
   "source": [
    "#Visualizing Decision Tree using GraphViz\n",
    "dot_data = StringIO()\n",
    "export_graphviz(clf, out_file=dot_data,  \n",
    "                filled=True, rounded=True,\n",
    "                special_characters=True,feature_names = feature_cols,class_names=['0','1'])\n",
    "graph = pydotplus.graph_from_dot_data(dot_data.getvalue())  \n",
    "graph.write_png('diabetes.png')\n",
    "Image(graph.create_png())"
   ]
  },
  {
   "cell_type": "markdown",
   "id": "69260098",
   "metadata": {},
   "source": [
    "# 5. Evaluating Tree Performance"
   ]
  },
  {
   "cell_type": "code",
   "execution_count": null,
   "id": "dac055dd",
   "metadata": {},
   "outputs": [],
   "source": [
    "#Evaluating Tree Performance\n",
    "display(print(confusion_matrix(t_test, y_pred))) # confusion matrix\n",
    "display(print(classification_report(t_test, y_pred)))\n",
    "display(print(\"Accuracy:\", metrics.accuracy_score(t_test, y_pred)))\n",
    "def plot_roc_curve(false_positive_rate, true_positive_rate):\n",
    "    plt.plot(false_positive_rate, true_positive_rate, color='red', label='ROC')\n",
    "    plt.plot([0, 1], [0, 1], color='green', linestyle='--')\n",
    "    plt.xlabel('False Positive Rate')\n",
    "    plt.ylabel('True Positive Rate')\n",
    "    plt.title('Receiver Operating Characteristic Curve')\n",
    "    plt.legend()\n",
    "    plt.show()\n",
    "false_positive_rate, true_positive_rate, thresholds = roc_curve(t_test, y_pred)\n",
    "roc_auc = auc(false_positive_rate, true_positive_rate)\n",
    "\n",
    "\n",
    "display(print(\"auc is\", auc(false_positive_rate, true_positive_rate)))\n",
    "plot_roc_curve(false_positive_rate, true_positive_rate)\n"
   ]
  },
  {
   "cell_type": "markdown",
   "id": "fa8f32c1",
   "metadata": {},
   "source": [
    "# 6. Tuning Decision Tree Performance"
   ]
  },
  {
   "cell_type": "code",
   "execution_count": null,
   "id": "e25a2cda",
   "metadata": {},
   "outputs": [],
   "source": [
    "#Tuning Decision Tree Performance\n",
    "#feature selection\n",
    "#splitting dataset in features and target variable\n",
    "feature_cols = ['age_bin','capital_gl_bin', 'education_bin','hours_per_week_bin',\n",
    "                'msr_bin','occupation_bin','race_sex_bin']\n",
    "X = data[feature_cols]\n",
    "t = data.y \n",
    "\n",
    "# splitting data\n",
    "# split dataset into training set and test set\n",
    "X_train, X_test, t_train, t_test = train_test_split(X,t,test_size = 0.30, random_state = 1) # 70% training and 30% testing\n",
    "\n",
    "#building decision tree model\n",
    "# creating decision tree classifier object\n",
    "clf = DecisionTreeClassifier(criterion='gini', min_samples_split=9, min_samples_leaf=9, max_depth=9)\n",
    "encoder = OrdinalEncoder(cols = ['age_bin','capital_gl_bin', 'education_bin','hours_per_week_bin',\n",
    "                                 'msr_bin','occupation_bin','race_sex_bin'], \n",
    "                         handle_unknown = 'value', \n",
    "                         handle_missing = 'value').fit(X_train,t_train)\n",
    "X_train = encoder.transform(X_train)\n",
    "X_test = encoder.transform(X_test)\n",
    "       \n",
    "\n",
    "# Training Decision Tree Classifier\n",
    "clf = clf.fit(X_train, t_train)\n",
    "\n",
    "\n",
    "# predicting the response for test dataset\n",
    "y_pred = clf.predict(X_test)\n",
    "\n",
    "# Evaluating model\n",
    "#model accuracy, frequency of the classifier being correct\n",
    "display(print(\"Accuracy:\", metrics.accuracy_score(t_test, y_pred)))\n",
    "display(print(classification_report(t_test, y_pred)))\n",
    "\n",
    "# Q.8.3 Draw the Graph of the BEST TREE Using GraphViz\n",
    "dot_data = StringIO()\n",
    "export_graphviz(clf, out_file=dot_data,  \n",
    "                filled=True, rounded=True,\n",
    "                special_characters=True,feature_names = feature_cols,class_names=['0','1'])\n",
    "graph = pydotplus.graph_from_dot_data(dot_data.getvalue())  \n",
    "graph.write_png('diabetes.png')\n",
    "Image(graph.create_png())\n",
    "\n"
   ]
  },
  {
   "cell_type": "markdown",
   "id": "ee2e372e",
   "metadata": {},
   "source": [
    "# 8. Automation of Performance Tuning"
   ]
  },
  {
   "cell_type": "code",
   "execution_count": null,
   "id": "f0543e1a",
   "metadata": {},
   "outputs": [],
   "source": [
    "#Automation of Performance Tuning (finding best params and best score)\n",
    "param = {'criterion':['gini'],'max_depth':[30,50,60,100],'min_samples_leaf':[2,3,5,10],\n",
    "         'min_impurity_decrease':[0.1,0.2,0.5]}\n",
    "grid = GridSearchCV(DecisionTreeClassifier(),param_grid=param,cv=6)\n",
    "grid.fit(x_train,y_train)\n",
    "print('Best Params:',grid.best_params_,'Best Score:', grid.best_score_)  \n",
    "#feature slection\n",
    "#splitting dataset in features and target variable\n",
    "feature_cols = ['age_bin','capital_gl_bin', 'education_bin','hours_per_week_bin',\n",
    "                'msr_bin','occupation_bin','race_sex_bin']\n",
    "X = data[feature_cols]# Feature\n",
    "t = data.y #target variable\n",
    "\n",
    "# splitting data\n",
    "# split dataset into training set and test set\n",
    "X_train, X_test, t_train, t_test = train_test_split(X,t,test_size = 0.30, random_state = 1) # 70% training and 30% testing\n",
    "\n",
    "#building decision tree model\n",
    "# create decision tree classifer object\n",
    "param = {'criterion':['gini','entropy'],'max_depth':[1,5,6,10,12],\n",
    "         'min_samples_leaf':[1,5,6,10,12],\n",
    "         'min_samples_split':[1,5,6,10,12]}\n",
    "grid = GridSearchCV(DecisionTreeClassifier(),param_grid=param,cv=6)\n",
    "#clf = DecisionTreeClassifier(criterion='gini', min_samples_split=9, min_samples_leaf=9, max_depth=9)\n",
    "encoder = OrdinalEncoder(cols = ['age_bin','capital_gl_bin', 'education_bin','hours_per_week_bin',\n",
    "                                 'msr_bin','occupation_bin','race_sex_bin'], \n",
    "                         handle_unknown = 'value', \n",
    "                         handle_missing = 'value').fit(X_train,t_train)\n",
    "X_train = encoder.transform(X_train)\n",
    "X_test = encoder.transform(X_test)\n",
    "       \n",
    "\n",
    "# Train Decision Tree Classifier/finding the best params and score\n",
    "#clf = clf.fit(X_train, t_train)\n",
    "grid.fit(X_train,t_train)\n",
    "print('The best is:',grid.best_params_,'The best score is:', grid.best_score_)  \n",
    "\n",
    "# Evaluating model\n",
    "#model accuracy, frequency of the classifier being correct\n",
    "#display(print(\"Accuracy:\", metrics.accuracy_score(t_test, y_pred)))\n",
    "#display(print(classification_report(t_test, y_pred)))"
   ]
  },
  {
   "cell_type": "markdown",
   "id": "2ff031f2",
   "metadata": {},
   "source": [
    "# 9. Prediction using Trained Decision Tree Model"
   ]
  },
  {
   "cell_type": "code",
   "execution_count": null,
   "id": "e8241f15",
   "metadata": {},
   "outputs": [],
   "source": [
    "#Prediction using Trained Decision Tree Model\n",
    "encoder\n",
    "a = ([[2,2,3,1,1,3,2]])\n",
    "pre_result = clf.predict(a)\n",
    "display(print(\"prediction is \", str(pre_result)))\n",
    "probs = clf.predict_proba(a)\n",
    "display(print(\"the probability of the outcome of the prediction is\",str(probs)))\n"
   ]
  }
 ],
 "metadata": {
  "kernelspec": {
   "display_name": "Python 3",
   "language": "python",
   "name": "python3"
  },
  "language_info": {
   "codemirror_mode": {
    "name": "ipython",
    "version": 3
   },
   "file_extension": ".py",
   "mimetype": "text/x-python",
   "name": "python",
   "nbconvert_exporter": "python",
   "pygments_lexer": "ipython3",
   "version": "3.8.8"
  }
 },
 "nbformat": 4,
 "nbformat_minor": 5
}
